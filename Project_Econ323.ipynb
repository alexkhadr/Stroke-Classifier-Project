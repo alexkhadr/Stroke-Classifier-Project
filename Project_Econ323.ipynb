{
 "cells": [
  {
   "cell_type": "markdown",
   "metadata": {},
   "source": [
    "# **Analyzing the Factors of getting a Stroke**\n",
    "\n",
    "##### By: Alexander Khadra"
   ]
  },
  {
   "cell_type": "markdown",
   "metadata": {},
   "source": [
    "### **Background information on strokes and how that relates to the project**\n",
    "\n",
    "It is without a doubt that strokes have been a major medical concern for decades now. Every year, more than 795,000 people in the United States suffer from a stroke. About 610,000 of these are first or new strokes. What exactly is a stroke? A stroke occurs when the blood supply to part of your brain is interrupted or reduced, preventing brain tissue from getting oxygen and nutrients. Brain cells begin to die in minutes. A stroke is a medical emergency, and prompt treatment is crucial. Early action can reduce brain damage and other complications. Within this project we analyze a dataset that contain possible factors of a stroke and we see if we can accurately develop a way to detect what the main factors are for suffering a stroke. Indicating these factors can lead to the possibility of earlier treatment that lower the chance of brain damage and other complications."
   ]
  },
  {
   "cell_type": "markdown",
   "metadata": {},
   "source": [
    "**The following needs to be installed for later use**"
   ]
  },
  {
   "cell_type": "code",
   "execution_count": 60,
   "metadata": {},
   "outputs": [
    {
     "name": "stdout",
     "output_type": "stream",
     "text": [
      "Requirement already satisfied: heatmapz in /opt/conda/lib/python3.8/site-packages (0.0.4)\n",
      "Requirement already satisfied: seaborn in /opt/conda/lib/python3.8/site-packages (from heatmapz) (0.11.0)\n",
      "Requirement already satisfied: pandas in /opt/conda/lib/python3.8/site-packages (from heatmapz) (1.1.5)\n",
      "Requirement already satisfied: matplotlib>=3.0.3 in /opt/conda/lib/python3.8/site-packages (from heatmapz) (3.3.3)\n",
      "Requirement already satisfied: python-dateutil>=2.1 in /opt/conda/lib/python3.8/site-packages (from matplotlib>=3.0.3->heatmapz) (2.8.1)\n",
      "Requirement already satisfied: pyparsing!=2.0.4,!=2.1.2,!=2.1.6,>=2.0.3 in /opt/conda/lib/python3.8/site-packages (from matplotlib>=3.0.3->heatmapz) (2.4.7)\n",
      "Requirement already satisfied: kiwisolver>=1.0.1 in /opt/conda/lib/python3.8/site-packages (from matplotlib>=3.0.3->heatmapz) (1.3.1)\n",
      "Requirement already satisfied: pillow>=6.2.0 in /opt/conda/lib/python3.8/site-packages (from matplotlib>=3.0.3->heatmapz) (8.0.1)\n",
      "Requirement already satisfied: numpy>=1.15 in /opt/conda/lib/python3.8/site-packages (from matplotlib>=3.0.3->heatmapz) (1.19.4)\n",
      "Requirement already satisfied: cycler>=0.10 in /opt/conda/lib/python3.8/site-packages (from matplotlib>=3.0.3->heatmapz) (0.10.0)\n",
      "Requirement already satisfied: six in /opt/conda/lib/python3.8/site-packages (from cycler>=0.10->matplotlib>=3.0.3->heatmapz) (1.15.0)\n",
      "Requirement already satisfied: python-dateutil>=2.1 in /opt/conda/lib/python3.8/site-packages (from matplotlib>=3.0.3->heatmapz) (2.8.1)\n",
      "Requirement already satisfied: pytz>=2017.2 in /opt/conda/lib/python3.8/site-packages (from pandas->heatmapz) (2020.4)\n",
      "Requirement already satisfied: numpy>=1.15 in /opt/conda/lib/python3.8/site-packages (from matplotlib>=3.0.3->heatmapz) (1.19.4)\n",
      "Requirement already satisfied: six in /opt/conda/lib/python3.8/site-packages (from cycler>=0.10->matplotlib>=3.0.3->heatmapz) (1.15.0)\n",
      "Requirement already satisfied: pandas in /opt/conda/lib/python3.8/site-packages (from heatmapz) (1.1.5)\n",
      "Requirement already satisfied: scipy>=1.0 in /opt/conda/lib/python3.8/site-packages (from seaborn->heatmapz) (1.5.3)\n",
      "Requirement already satisfied: numpy>=1.15 in /opt/conda/lib/python3.8/site-packages (from matplotlib>=3.0.3->heatmapz) (1.19.4)\n",
      "Requirement already satisfied: matplotlib>=3.0.3 in /opt/conda/lib/python3.8/site-packages (from heatmapz) (3.3.3)\n",
      "Requirement already satisfied: numpy>=1.15 in /opt/conda/lib/python3.8/site-packages (from matplotlib>=3.0.3->heatmapz) (1.19.4)\n",
      "Note: you may need to restart the kernel to use updated packages.\n"
     ]
    }
   ],
   "source": [
    "pip install heatmapz"
   ]
  },
  {
   "cell_type": "markdown",
   "metadata": {},
   "source": [
    "**The following libraries are necessary for later analysis:**"
   ]
  },
  {
   "cell_type": "code",
   "execution_count": 61,
   "metadata": {},
   "outputs": [],
   "source": [
    "import numpy as np # linear algebra\n",
    "import pandas as pd # data processing, CSV file I/O (e.g. pd.read_csv)\n",
    "import matplotlib.pyplot as plt\n",
    "import matplotlib.colors as mplc\n",
    "from sklearn import datasets, linear_model\n",
    "from sklearn.model_selection import train_test_split\n",
    "from sklearn.preprocessing import StandardScaler\n",
    "from sklearn.neighbors import KNeighborsClassifier\n",
    "from heatmap import heatmap, corrplot\n",
    "import seaborn as sn\n",
    "from sklearn.neural_network import MLPClassifier\n",
    "from sklearn.tree import DecisionTreeClassifier\n",
    "from sklearn import (\n",
    "    linear_model, metrics, neural_network, pipeline, preprocessing, model_selection)\n",
    "from sklearn.model_selection import GridSearchCV"
   ]
  },
  {
   "cell_type": "markdown",
   "metadata": {},
   "source": [
    "The main target of this project is to figure out which factors are the most correlated to having a stroke. We do so by downloading the following dataset from Kaggle. This dataset contains information on many people, some who suffered a stroke and some who did not. It also includes other factors that may relate to having a stroke or not."
   ]
  },
  {
   "cell_type": "code",
   "execution_count": 62,
   "metadata": {},
   "outputs": [
    {
     "data": {
      "text/html": [
       "<div>\n",
       "<style scoped>\n",
       "    .dataframe tbody tr th:only-of-type {\n",
       "        vertical-align: middle;\n",
       "    }\n",
       "\n",
       "    .dataframe tbody tr th {\n",
       "        vertical-align: top;\n",
       "    }\n",
       "\n",
       "    .dataframe thead th {\n",
       "        text-align: right;\n",
       "    }\n",
       "</style>\n",
       "<table border=\"1\" class=\"dataframe\">\n",
       "  <thead>\n",
       "    <tr style=\"text-align: right;\">\n",
       "      <th></th>\n",
       "      <th>id</th>\n",
       "      <th>gender</th>\n",
       "      <th>age</th>\n",
       "      <th>hypertension</th>\n",
       "      <th>heart_disease</th>\n",
       "      <th>ever_married</th>\n",
       "      <th>work_type</th>\n",
       "      <th>Residence_type</th>\n",
       "      <th>avg_glucose_level</th>\n",
       "      <th>bmi</th>\n",
       "      <th>smoking_status</th>\n",
       "      <th>stroke</th>\n",
       "    </tr>\n",
       "  </thead>\n",
       "  <tbody>\n",
       "    <tr>\n",
       "      <th>0</th>\n",
       "      <td>9046</td>\n",
       "      <td>Male</td>\n",
       "      <td>67.0</td>\n",
       "      <td>0</td>\n",
       "      <td>1</td>\n",
       "      <td>Yes</td>\n",
       "      <td>Private</td>\n",
       "      <td>Urban</td>\n",
       "      <td>228.69</td>\n",
       "      <td>36.6</td>\n",
       "      <td>formerly smoked</td>\n",
       "      <td>1</td>\n",
       "    </tr>\n",
       "    <tr>\n",
       "      <th>1</th>\n",
       "      <td>51676</td>\n",
       "      <td>Female</td>\n",
       "      <td>61.0</td>\n",
       "      <td>0</td>\n",
       "      <td>0</td>\n",
       "      <td>Yes</td>\n",
       "      <td>Self-employed</td>\n",
       "      <td>Rural</td>\n",
       "      <td>202.21</td>\n",
       "      <td>NaN</td>\n",
       "      <td>never smoked</td>\n",
       "      <td>1</td>\n",
       "    </tr>\n",
       "    <tr>\n",
       "      <th>2</th>\n",
       "      <td>31112</td>\n",
       "      <td>Male</td>\n",
       "      <td>80.0</td>\n",
       "      <td>0</td>\n",
       "      <td>1</td>\n",
       "      <td>Yes</td>\n",
       "      <td>Private</td>\n",
       "      <td>Rural</td>\n",
       "      <td>105.92</td>\n",
       "      <td>32.5</td>\n",
       "      <td>never smoked</td>\n",
       "      <td>1</td>\n",
       "    </tr>\n",
       "    <tr>\n",
       "      <th>3</th>\n",
       "      <td>60182</td>\n",
       "      <td>Female</td>\n",
       "      <td>49.0</td>\n",
       "      <td>0</td>\n",
       "      <td>0</td>\n",
       "      <td>Yes</td>\n",
       "      <td>Private</td>\n",
       "      <td>Urban</td>\n",
       "      <td>171.23</td>\n",
       "      <td>34.4</td>\n",
       "      <td>smokes</td>\n",
       "      <td>1</td>\n",
       "    </tr>\n",
       "    <tr>\n",
       "      <th>4</th>\n",
       "      <td>1665</td>\n",
       "      <td>Female</td>\n",
       "      <td>79.0</td>\n",
       "      <td>1</td>\n",
       "      <td>0</td>\n",
       "      <td>Yes</td>\n",
       "      <td>Self-employed</td>\n",
       "      <td>Rural</td>\n",
       "      <td>174.12</td>\n",
       "      <td>24.0</td>\n",
       "      <td>never smoked</td>\n",
       "      <td>1</td>\n",
       "    </tr>\n",
       "    <tr>\n",
       "      <th>...</th>\n",
       "      <td>...</td>\n",
       "      <td>...</td>\n",
       "      <td>...</td>\n",
       "      <td>...</td>\n",
       "      <td>...</td>\n",
       "      <td>...</td>\n",
       "      <td>...</td>\n",
       "      <td>...</td>\n",
       "      <td>...</td>\n",
       "      <td>...</td>\n",
       "      <td>...</td>\n",
       "      <td>...</td>\n",
       "    </tr>\n",
       "    <tr>\n",
       "      <th>5105</th>\n",
       "      <td>18234</td>\n",
       "      <td>Female</td>\n",
       "      <td>80.0</td>\n",
       "      <td>1</td>\n",
       "      <td>0</td>\n",
       "      <td>Yes</td>\n",
       "      <td>Private</td>\n",
       "      <td>Urban</td>\n",
       "      <td>83.75</td>\n",
       "      <td>NaN</td>\n",
       "      <td>never smoked</td>\n",
       "      <td>0</td>\n",
       "    </tr>\n",
       "    <tr>\n",
       "      <th>5106</th>\n",
       "      <td>44873</td>\n",
       "      <td>Female</td>\n",
       "      <td>81.0</td>\n",
       "      <td>0</td>\n",
       "      <td>0</td>\n",
       "      <td>Yes</td>\n",
       "      <td>Self-employed</td>\n",
       "      <td>Urban</td>\n",
       "      <td>125.20</td>\n",
       "      <td>40.0</td>\n",
       "      <td>never smoked</td>\n",
       "      <td>0</td>\n",
       "    </tr>\n",
       "    <tr>\n",
       "      <th>5107</th>\n",
       "      <td>19723</td>\n",
       "      <td>Female</td>\n",
       "      <td>35.0</td>\n",
       "      <td>0</td>\n",
       "      <td>0</td>\n",
       "      <td>Yes</td>\n",
       "      <td>Self-employed</td>\n",
       "      <td>Rural</td>\n",
       "      <td>82.99</td>\n",
       "      <td>30.6</td>\n",
       "      <td>never smoked</td>\n",
       "      <td>0</td>\n",
       "    </tr>\n",
       "    <tr>\n",
       "      <th>5108</th>\n",
       "      <td>37544</td>\n",
       "      <td>Male</td>\n",
       "      <td>51.0</td>\n",
       "      <td>0</td>\n",
       "      <td>0</td>\n",
       "      <td>Yes</td>\n",
       "      <td>Private</td>\n",
       "      <td>Rural</td>\n",
       "      <td>166.29</td>\n",
       "      <td>25.6</td>\n",
       "      <td>formerly smoked</td>\n",
       "      <td>0</td>\n",
       "    </tr>\n",
       "    <tr>\n",
       "      <th>5109</th>\n",
       "      <td>44679</td>\n",
       "      <td>Female</td>\n",
       "      <td>44.0</td>\n",
       "      <td>0</td>\n",
       "      <td>0</td>\n",
       "      <td>Yes</td>\n",
       "      <td>Govt_job</td>\n",
       "      <td>Urban</td>\n",
       "      <td>85.28</td>\n",
       "      <td>26.2</td>\n",
       "      <td>Unknown</td>\n",
       "      <td>0</td>\n",
       "    </tr>\n",
       "  </tbody>\n",
       "</table>\n",
       "<p>5110 rows × 12 columns</p>\n",
       "</div>"
      ],
      "text/plain": [
       "         id  gender   age  hypertension  heart_disease ever_married  \\\n",
       "0      9046    Male  67.0             0              1          Yes   \n",
       "1     51676  Female  61.0             0              0          Yes   \n",
       "2     31112    Male  80.0             0              1          Yes   \n",
       "3     60182  Female  49.0             0              0          Yes   \n",
       "4      1665  Female  79.0             1              0          Yes   \n",
       "...     ...     ...   ...           ...            ...          ...   \n",
       "5105  18234  Female  80.0             1              0          Yes   \n",
       "5106  44873  Female  81.0             0              0          Yes   \n",
       "5107  19723  Female  35.0             0              0          Yes   \n",
       "5108  37544    Male  51.0             0              0          Yes   \n",
       "5109  44679  Female  44.0             0              0          Yes   \n",
       "\n",
       "          work_type Residence_type  avg_glucose_level   bmi   smoking_status  \\\n",
       "0           Private          Urban             228.69  36.6  formerly smoked   \n",
       "1     Self-employed          Rural             202.21   NaN     never smoked   \n",
       "2           Private          Rural             105.92  32.5     never smoked   \n",
       "3           Private          Urban             171.23  34.4           smokes   \n",
       "4     Self-employed          Rural             174.12  24.0     never smoked   \n",
       "...             ...            ...                ...   ...              ...   \n",
       "5105        Private          Urban              83.75   NaN     never smoked   \n",
       "5106  Self-employed          Urban             125.20  40.0     never smoked   \n",
       "5107  Self-employed          Rural              82.99  30.6     never smoked   \n",
       "5108        Private          Rural             166.29  25.6  formerly smoked   \n",
       "5109       Govt_job          Urban              85.28  26.2          Unknown   \n",
       "\n",
       "      stroke  \n",
       "0          1  \n",
       "1          1  \n",
       "2          1  \n",
       "3          1  \n",
       "4          1  \n",
       "...      ...  \n",
       "5105       0  \n",
       "5106       0  \n",
       "5107       0  \n",
       "5108       0  \n",
       "5109       0  \n",
       "\n",
       "[5110 rows x 12 columns]"
      ]
     },
     "execution_count": 62,
     "metadata": {},
     "output_type": "execute_result"
    }
   ],
   "source": [
    "stroke_data_all = pd.read_csv(\"healthcare-dataset-stroke-data.csv\")\n",
    "stroke_data_all"
   ]
  },
  {
   "cell_type": "markdown",
   "metadata": {},
   "source": [
    "**The different variables (columns) in this data set are**\n",
    "\n",
    "- `id:` Persons ID\n",
    "- `gender:` Patients gender at birth\n",
    "- `age:` Current age of Person\n",
    "- `hypertension:` If person has hypertension (1 if person has hypertension and 0 if the person does not)\n",
    "- `heart_disease:` If person has heart disease (1 if person has heart disease and 0 if the person does not)\n",
    "- `ever_married:` If person has been married (\"yes\" if person has been married and \"no\" if the person has not)\n",
    "- `work_type:` Whether it is private sector, self-employed, or government job\n",
    "- `Residence_type:` Whether its Urban or Rural\n",
    "- `avg_glucose_level:` Average glucose level for the person (measured in $mg/dL$)\n",
    "- `bmi:` Average bmi level for each person (measured in $kg/m^2$)\n",
    "- `smoking_status:` Whether a person is a smoker, formerly smoked, never smoked, or unknown"
   ]
  },
  {
   "cell_type": "markdown",
   "metadata": {},
   "source": [
    "This project is split up into two parts. The first part is used to see how the quantitative data in our project are related to having a stroke or not. The second part focusses on the qualitative variables in our data set. The reason for splitting the project into a quantitative and qualitative section is because the way we measure relationship on quantitative and qualitative data differ, hence we need different procedures to measure the relationships."
   ]
  },
  {
   "cell_type": "markdown",
   "metadata": {},
   "source": [
    "**A brief  summary of our data set:**"
   ]
  },
  {
   "cell_type": "code",
   "execution_count": 63,
   "metadata": {},
   "outputs": [
    {
     "name": "stdout",
     "output_type": "stream",
     "text": [
      "<class 'pandas.core.frame.DataFrame'>\n",
      "RangeIndex: 5110 entries, 0 to 5109\n",
      "Data columns (total 12 columns):\n",
      " #   Column             Non-Null Count  Dtype  \n",
      "---  ------             --------------  -----  \n",
      " 0   id                 5110 non-null   int64  \n",
      " 1   gender             5110 non-null   object \n",
      " 2   age                5110 non-null   float64\n",
      " 3   hypertension       5110 non-null   int64  \n",
      " 4   heart_disease      5110 non-null   int64  \n",
      " 5   ever_married       5110 non-null   object \n",
      " 6   work_type          5110 non-null   object \n",
      " 7   Residence_type     5110 non-null   object \n",
      " 8   avg_glucose_level  5110 non-null   float64\n",
      " 9   bmi                4909 non-null   float64\n",
      " 10  smoking_status     5110 non-null   object \n",
      " 11  stroke             5110 non-null   int64  \n",
      "dtypes: float64(3), int64(4), object(5)\n",
      "memory usage: 479.2+ KB\n"
     ]
    }
   ],
   "source": [
    "stroke_data_all.info()"
   ]
  },
  {
   "cell_type": "code",
   "execution_count": 64,
   "metadata": {},
   "outputs": [
    {
     "data": {
      "text/plain": [
       "id                   5110\n",
       "gender               5110\n",
       "age                  5110\n",
       "hypertension         5110\n",
       "heart_disease        5110\n",
       "ever_married         5110\n",
       "work_type            5110\n",
       "Residence_type       5110\n",
       "avg_glucose_level    5110\n",
       "bmi                  4909\n",
       "smoking_status       5110\n",
       "stroke               5110\n",
       "dtype: int64"
      ]
     },
     "execution_count": 64,
     "metadata": {},
     "output_type": "execute_result"
    }
   ],
   "source": [
    "stroke_data_all.count()"
   ]
  },
  {
   "cell_type": "markdown",
   "metadata": {},
   "source": [
    "### **Relationship for Quantitative Variables**"
   ]
  },
  {
   "cell_type": "markdown",
   "metadata": {},
   "source": [
    "In this section we focus on quantitative variables and therefore we eliminate the qualitative variables from our data frame. From now on we focus the persons age, bmi level, and glucose level."
   ]
  },
  {
   "cell_type": "code",
   "execution_count": 65,
   "metadata": {},
   "outputs": [
    {
     "data": {
      "text/html": [
       "<div>\n",
       "<style scoped>\n",
       "    .dataframe tbody tr th:only-of-type {\n",
       "        vertical-align: middle;\n",
       "    }\n",
       "\n",
       "    .dataframe tbody tr th {\n",
       "        vertical-align: top;\n",
       "    }\n",
       "\n",
       "    .dataframe thead th {\n",
       "        text-align: right;\n",
       "    }\n",
       "</style>\n",
       "<table border=\"1\" class=\"dataframe\">\n",
       "  <thead>\n",
       "    <tr style=\"text-align: right;\">\n",
       "      <th></th>\n",
       "      <th>age</th>\n",
       "      <th>avg_glucose_level</th>\n",
       "      <th>bmi</th>\n",
       "      <th>stroke</th>\n",
       "    </tr>\n",
       "  </thead>\n",
       "  <tbody>\n",
       "    <tr>\n",
       "      <th>0</th>\n",
       "      <td>67.0</td>\n",
       "      <td>228.69</td>\n",
       "      <td>36.6</td>\n",
       "      <td>1</td>\n",
       "    </tr>\n",
       "    <tr>\n",
       "      <th>1</th>\n",
       "      <td>61.0</td>\n",
       "      <td>202.21</td>\n",
       "      <td>NaN</td>\n",
       "      <td>1</td>\n",
       "    </tr>\n",
       "    <tr>\n",
       "      <th>2</th>\n",
       "      <td>80.0</td>\n",
       "      <td>105.92</td>\n",
       "      <td>32.5</td>\n",
       "      <td>1</td>\n",
       "    </tr>\n",
       "    <tr>\n",
       "      <th>3</th>\n",
       "      <td>49.0</td>\n",
       "      <td>171.23</td>\n",
       "      <td>34.4</td>\n",
       "      <td>1</td>\n",
       "    </tr>\n",
       "    <tr>\n",
       "      <th>4</th>\n",
       "      <td>79.0</td>\n",
       "      <td>174.12</td>\n",
       "      <td>24.0</td>\n",
       "      <td>1</td>\n",
       "    </tr>\n",
       "    <tr>\n",
       "      <th>...</th>\n",
       "      <td>...</td>\n",
       "      <td>...</td>\n",
       "      <td>...</td>\n",
       "      <td>...</td>\n",
       "    </tr>\n",
       "    <tr>\n",
       "      <th>5105</th>\n",
       "      <td>80.0</td>\n",
       "      <td>83.75</td>\n",
       "      <td>NaN</td>\n",
       "      <td>0</td>\n",
       "    </tr>\n",
       "    <tr>\n",
       "      <th>5106</th>\n",
       "      <td>81.0</td>\n",
       "      <td>125.20</td>\n",
       "      <td>40.0</td>\n",
       "      <td>0</td>\n",
       "    </tr>\n",
       "    <tr>\n",
       "      <th>5107</th>\n",
       "      <td>35.0</td>\n",
       "      <td>82.99</td>\n",
       "      <td>30.6</td>\n",
       "      <td>0</td>\n",
       "    </tr>\n",
       "    <tr>\n",
       "      <th>5108</th>\n",
       "      <td>51.0</td>\n",
       "      <td>166.29</td>\n",
       "      <td>25.6</td>\n",
       "      <td>0</td>\n",
       "    </tr>\n",
       "    <tr>\n",
       "      <th>5109</th>\n",
       "      <td>44.0</td>\n",
       "      <td>85.28</td>\n",
       "      <td>26.2</td>\n",
       "      <td>0</td>\n",
       "    </tr>\n",
       "  </tbody>\n",
       "</table>\n",
       "<p>5110 rows × 4 columns</p>\n",
       "</div>"
      ],
      "text/plain": [
       "       age  avg_glucose_level   bmi  stroke\n",
       "0     67.0             228.69  36.6       1\n",
       "1     61.0             202.21   NaN       1\n",
       "2     80.0             105.92  32.5       1\n",
       "3     49.0             171.23  34.4       1\n",
       "4     79.0             174.12  24.0       1\n",
       "...    ...                ...   ...     ...\n",
       "5105  80.0              83.75   NaN       0\n",
       "5106  81.0             125.20  40.0       0\n",
       "5107  35.0              82.99  30.6       0\n",
       "5108  51.0             166.29  25.6       0\n",
       "5109  44.0              85.28  26.2       0\n",
       "\n",
       "[5110 rows x 4 columns]"
      ]
     },
     "execution_count": 65,
     "metadata": {},
     "output_type": "execute_result"
    }
   ],
   "source": [
    "stroke_data = stroke_data_all.drop(columns = ['id', \n",
    "                                          'gender', \n",
    "                                          'hypertension', \n",
    "                                          'heart_disease', \n",
    "                                          'ever_married', \n",
    "                                          'work_type', \n",
    "                                          'Residence_type', \n",
    "                                          'smoking_status'], \n",
    "                               axis = 1)\n",
    "stroke_data"
   ]
  },
  {
   "cell_type": "markdown",
   "metadata": {},
   "source": [
    "Since we are trying to predict the \"stroke\" column in our data set, we turn that column from numeric values into categories where \"stroke\" represents a person who has suffered from a stroke and \"no stroke\" represents the person who has not suffer from a stroke. This makes the data easier to read and allows us to make our graphs more visually appealing. We can see the type of each column below."
   ]
  },
  {
   "cell_type": "code",
   "execution_count": 66,
   "metadata": {},
   "outputs": [
    {
     "data": {
      "text/html": [
       "<div>\n",
       "<style scoped>\n",
       "    .dataframe tbody tr th:only-of-type {\n",
       "        vertical-align: middle;\n",
       "    }\n",
       "\n",
       "    .dataframe tbody tr th {\n",
       "        vertical-align: top;\n",
       "    }\n",
       "\n",
       "    .dataframe thead th {\n",
       "        text-align: right;\n",
       "    }\n",
       "</style>\n",
       "<table border=\"1\" class=\"dataframe\">\n",
       "  <thead>\n",
       "    <tr style=\"text-align: right;\">\n",
       "      <th></th>\n",
       "      <th>age</th>\n",
       "      <th>avg_glucose_level</th>\n",
       "      <th>bmi</th>\n",
       "      <th>stroke</th>\n",
       "    </tr>\n",
       "  </thead>\n",
       "  <tbody>\n",
       "    <tr>\n",
       "      <th>0</th>\n",
       "      <td>67.0</td>\n",
       "      <td>228.69</td>\n",
       "      <td>36.6</td>\n",
       "      <td>stroke</td>\n",
       "    </tr>\n",
       "    <tr>\n",
       "      <th>1</th>\n",
       "      <td>61.0</td>\n",
       "      <td>202.21</td>\n",
       "      <td>NaN</td>\n",
       "      <td>stroke</td>\n",
       "    </tr>\n",
       "    <tr>\n",
       "      <th>2</th>\n",
       "      <td>80.0</td>\n",
       "      <td>105.92</td>\n",
       "      <td>32.5</td>\n",
       "      <td>stroke</td>\n",
       "    </tr>\n",
       "    <tr>\n",
       "      <th>3</th>\n",
       "      <td>49.0</td>\n",
       "      <td>171.23</td>\n",
       "      <td>34.4</td>\n",
       "      <td>stroke</td>\n",
       "    </tr>\n",
       "    <tr>\n",
       "      <th>4</th>\n",
       "      <td>79.0</td>\n",
       "      <td>174.12</td>\n",
       "      <td>24.0</td>\n",
       "      <td>stroke</td>\n",
       "    </tr>\n",
       "    <tr>\n",
       "      <th>...</th>\n",
       "      <td>...</td>\n",
       "      <td>...</td>\n",
       "      <td>...</td>\n",
       "      <td>...</td>\n",
       "    </tr>\n",
       "    <tr>\n",
       "      <th>5105</th>\n",
       "      <td>80.0</td>\n",
       "      <td>83.75</td>\n",
       "      <td>NaN</td>\n",
       "      <td>no stroke</td>\n",
       "    </tr>\n",
       "    <tr>\n",
       "      <th>5106</th>\n",
       "      <td>81.0</td>\n",
       "      <td>125.20</td>\n",
       "      <td>40.0</td>\n",
       "      <td>no stroke</td>\n",
       "    </tr>\n",
       "    <tr>\n",
       "      <th>5107</th>\n",
       "      <td>35.0</td>\n",
       "      <td>82.99</td>\n",
       "      <td>30.6</td>\n",
       "      <td>no stroke</td>\n",
       "    </tr>\n",
       "    <tr>\n",
       "      <th>5108</th>\n",
       "      <td>51.0</td>\n",
       "      <td>166.29</td>\n",
       "      <td>25.6</td>\n",
       "      <td>no stroke</td>\n",
       "    </tr>\n",
       "    <tr>\n",
       "      <th>5109</th>\n",
       "      <td>44.0</td>\n",
       "      <td>85.28</td>\n",
       "      <td>26.2</td>\n",
       "      <td>no stroke</td>\n",
       "    </tr>\n",
       "  </tbody>\n",
       "</table>\n",
       "<p>5110 rows × 4 columns</p>\n",
       "</div>"
      ],
      "text/plain": [
       "       age  avg_glucose_level   bmi     stroke\n",
       "0     67.0             228.69  36.6     stroke\n",
       "1     61.0             202.21   NaN     stroke\n",
       "2     80.0             105.92  32.5     stroke\n",
       "3     49.0             171.23  34.4     stroke\n",
       "4     79.0             174.12  24.0     stroke\n",
       "...    ...                ...   ...        ...\n",
       "5105  80.0              83.75   NaN  no stroke\n",
       "5106  81.0             125.20  40.0  no stroke\n",
       "5107  35.0              82.99  30.6  no stroke\n",
       "5108  51.0             166.29  25.6  no stroke\n",
       "5109  44.0              85.28  26.2  no stroke\n",
       "\n",
       "[5110 rows x 4 columns]"
      ]
     },
     "execution_count": 66,
     "metadata": {},
     "output_type": "execute_result"
    }
   ],
   "source": [
    "stroke_data.replace({'stroke':{1:'stroke', 0:'no stroke'}},inplace=True)\n",
    "stroke_data"
   ]
  },
  {
   "cell_type": "markdown",
   "metadata": {},
   "source": [
    "**The types of each column are:**"
   ]
  },
  {
   "cell_type": "code",
   "execution_count": 67,
   "metadata": {},
   "outputs": [
    {
     "data": {
      "text/plain": [
       "age                   float64\n",
       "avg_glucose_level     float64\n",
       "bmi                   float64\n",
       "stroke               category\n",
       "dtype: object"
      ]
     },
     "execution_count": 67,
     "metadata": {},
     "output_type": "execute_result"
    }
   ],
   "source": [
    "stroke_data['stroke'] = stroke_data['stroke'].astype('category')\n",
    "stroke_data.dtypes"
   ]
  },
  {
   "cell_type": "markdown",
   "metadata": {},
   "source": [
    "Lets consider these relationships individually\n",
    "- bmi vs. stroke \n",
    "- glucose level vs. stroke\n",
    "- age vs. stroke\n"
   ]
  },
  {
   "cell_type": "markdown",
   "metadata": {},
   "source": [
    "### bmi vs. stroke"
   ]
  },
  {
   "cell_type": "code",
   "execution_count": 68,
   "metadata": {},
   "outputs": [
    {
     "data": {
      "image/png": "[encoded data removed]",
      "text/plain": [
       "<Figure size 432x288 with 2 Axes>"
      ]
     },
     "metadata": {
      "needs_background": "light"
     },
     "output_type": "display_data"
    }
   ],
   "source": [
    "bmi_stroke_bp_data = stroke_data.drop(columns = ['avg_glucose_level', \n",
    "                                          'age'])\n",
    "\n",
    "\n",
    "stroke_vs_bmi_plot = (\n",
    "    bmi_stroke_bp_data\n",
    "    .groupby(\"stroke\")\n",
    "    .boxplot()\n",
    ")"
   ]
  },
  {
   "cell_type": "markdown",
   "metadata": {},
   "source": [
    "From our graph above we see that there are far more outliers in our \"no strokes case\". This is most likely due to the amount of people suffering from stroke being far less than the amount of people that do not suffer from stroke. Thus, it is not surprising that there are more outliers in the non stroke boxplot. Our average bmi level was slightly higher for the \"strokes\" cases but it does not look like it is significant."
   ]
  },
  {
   "cell_type": "markdown",
   "metadata": {},
   "source": [
    "### glucose vs. stroke"
   ]
  },
  {
   "cell_type": "code",
   "execution_count": 69,
   "metadata": {},
   "outputs": [
    {
     "data": {
      "image/png": "[encoded data removed]",
      "text/plain": [
       "<Figure size 432x288 with 2 Axes>"
      ]
     },
     "metadata": {
      "needs_background": "light"
     },
     "output_type": "display_data"
    }
   ],
   "source": [
    "glucose_stroke_bp_data = stroke_data.drop(columns = ['bmi', \n",
    "                                          'age'])\n",
    "\n",
    "\n",
    "stroke_vs_bmi_plot = (\n",
    "    glucose_stroke_bp_data\n",
    "    .groupby(\"stroke\")\n",
    "    .boxplot()\n",
    ")"
   ]
  },
  {
   "cell_type": "markdown",
   "metadata": {},
   "source": [
    "From the boxplot above we can see that the average glucose level has a higher average for people who have experienced a stroke. We can also see that the average glucose level for people who have experienced a stroke is highly skewed to the right. From this graph, there seems to be a correlation between glucose level and strokes. "
   ]
  },
  {
   "cell_type": "markdown",
   "metadata": {},
   "source": [
    "### age vs. storke"
   ]
  },
  {
   "cell_type": "code",
   "execution_count": 70,
   "metadata": {},
   "outputs": [
    {
     "data": {
      "image/png": "[encoded data removed]",
      "text/plain": [
       "<Figure size 432x288 with 2 Axes>"
      ]
     },
     "metadata": {
      "needs_background": "light"
     },
     "output_type": "display_data"
    }
   ],
   "source": [
    "age_stroke_bp_data = stroke_data.drop(columns = ['avg_glucose_level', \n",
    "                                          'bmi'])\n",
    "\n",
    "\n",
    "stroke_vs_bmi_plot = (\n",
    "    age_stroke_bp_data\n",
    "    .groupby(\"stroke\")\n",
    "    .boxplot()\n",
    ")"
   ]
  },
  {
   "cell_type": "markdown",
   "metadata": {},
   "source": [
    "The average age of people who suffer a stroke is far higher than the average age of people who do not suffer a stroke.  "
   ]
  },
  {
   "cell_type": "markdown",
   "metadata": {},
   "source": [
    "From the three graphs above, we conclude that age and glucose level may be factors of a stroke while bmi is not. From this we can do the following chart."
   ]
  },
  {
   "cell_type": "markdown",
   "metadata": {},
   "source": [
    "### Using glucose level and age to determine a stroke "
   ]
  },
  {
   "cell_type": "code",
   "execution_count": 71,
   "metadata": {},
   "outputs": [
    {
     "data": {
      "image/png": "[encoded data removed]",
      "text/plain": [
       "<Figure size 432x288 with 1 Axes>"
      ]
     },
     "metadata": {
      "needs_background": "light"
     },
     "output_type": "display_data"
    }
   ],
   "source": [
    "g = sn.scatterplot(x=\"age\", \n",
    "                   y=\"avg_glucose_level\",\n",
    "                   hue = \"stroke\",\n",
    "                   alpha = 0.4, \n",
    "                   data = stroke_data);\n",
    "g.set(xscale=\"log\");"
   ]
  },
  {
   "cell_type": "markdown",
   "metadata": {},
   "source": [
    "From the graph above we can see that almost all points for strokes lie in the top right of our graph, meaning a high age and high glucose level tend to have a larger proportion of stroke cases. This is consistent to our previous graphs."
   ]
  },
  {
   "cell_type": "markdown",
   "metadata": {},
   "source": [
    "**Solving Classification Problem** <br>\n",
    "For the sake of using our classifiers, we must have our values on whether someone has a stroke be numeric values. Although it is slightly harder to read the data, we must do so in order to work with the following algorithms. <br>\n",
    "We split our data into a training and testing set. This allows us to perform functions on the training set and then see if our classifier is accurate by testing it on our testing set. We also scale our data that every variable has an average of 0. Doing this allows our classification problem to not be affected by the units of our variables. To learn more about splitting data see <br> https://machinelearningmastery.com/train-test-split-for-evaluating-machine-learning-algorithms/"
   ]
  },
  {
   "cell_type": "code",
   "execution_count": 72,
   "metadata": {},
   "outputs": [],
   "source": [
    "column_switch = {\"stroke\":     {\"stroke\": 1, \"no stroke\": 0}}\n",
    "\n",
    "stroke_data_quantitative = stroke_data.drop(columns = ['bmi'])\n",
    "\n",
    "stroke_data_quantitative = stroke_data_quantitative.replace(column_switch)\n",
    "stroke_data_quantitative\n",
    "\n",
    "X = stroke_data_quantitative.drop([\"stroke\"], axis = 1)\n",
    "y = stroke_data_quantitative[\"stroke\"]\n",
    "\n",
    "# Scaling X\n",
    "scaled_X = (X-X.mean())/ X.std()\n",
    "\n",
    "X_train, X_test, y_train, y_test = model_selection.train_test_split(scaled_X, y, test_size=0.25, random_state = 40)"
   ]
  },
  {
   "cell_type": "code",
   "execution_count": 73,
   "metadata": {},
   "outputs": [
    {
     "data": {
      "text/html": [
       "<div>\n",
       "<style scoped>\n",
       "    .dataframe tbody tr th:only-of-type {\n",
       "        vertical-align: middle;\n",
       "    }\n",
       "\n",
       "    .dataframe tbody tr th {\n",
       "        vertical-align: top;\n",
       "    }\n",
       "\n",
       "    .dataframe thead th {\n",
       "        text-align: right;\n",
       "    }\n",
       "</style>\n",
       "<table border=\"1\" class=\"dataframe\">\n",
       "  <thead>\n",
       "    <tr style=\"text-align: right;\">\n",
       "      <th></th>\n",
       "      <th>age</th>\n",
       "      <th>avg_glucose_level</th>\n",
       "    </tr>\n",
       "  </thead>\n",
       "  <tbody>\n",
       "    <tr>\n",
       "      <th>4783</th>\n",
       "      <td>-1.513605</td>\n",
       "      <td>-0.884155</td>\n",
       "    </tr>\n",
       "    <tr>\n",
       "      <th>739</th>\n",
       "      <td>0.520655</td>\n",
       "      <td>-1.121989</td>\n",
       "    </tr>\n",
       "    <tr>\n",
       "      <th>623</th>\n",
       "      <td>1.360893</td>\n",
       "      <td>-0.834910</td>\n",
       "    </tr>\n",
       "    <tr>\n",
       "      <th>1165</th>\n",
       "      <td>-0.496475</td>\n",
       "      <td>-0.571238</td>\n",
       "    </tr>\n",
       "    <tr>\n",
       "      <th>1792</th>\n",
       "      <td>-0.850259</td>\n",
       "      <td>-0.752761</td>\n",
       "    </tr>\n",
       "  </tbody>\n",
       "</table>\n",
       "</div>"
      ],
      "text/plain": [
       "           age  avg_glucose_level\n",
       "4783 -1.513605          -0.884155\n",
       "739   0.520655          -1.121989\n",
       "623   1.360893          -0.834910\n",
       "1165 -0.496475          -0.571238\n",
       "1792 -0.850259          -0.752761"
      ]
     },
     "execution_count": 73,
     "metadata": {},
     "output_type": "execute_result"
    }
   ],
   "source": [
    "X_train.head()"
   ]
  },
  {
   "cell_type": "code",
   "execution_count": 74,
   "metadata": {},
   "outputs": [
    {
     "data": {
      "text/html": [
       "<div>\n",
       "<style scoped>\n",
       "    .dataframe tbody tr th:only-of-type {\n",
       "        vertical-align: middle;\n",
       "    }\n",
       "\n",
       "    .dataframe tbody tr th {\n",
       "        vertical-align: top;\n",
       "    }\n",
       "\n",
       "    .dataframe thead th {\n",
       "        text-align: right;\n",
       "    }\n",
       "</style>\n",
       "<table border=\"1\" class=\"dataframe\">\n",
       "  <thead>\n",
       "    <tr style=\"text-align: right;\">\n",
       "      <th></th>\n",
       "      <th>age</th>\n",
       "      <th>avg_glucose_level</th>\n",
       "    </tr>\n",
       "  </thead>\n",
       "  <tbody>\n",
       "    <tr>\n",
       "      <th>118</th>\n",
       "      <td>-0.231137</td>\n",
       "      <td>-0.527072</td>\n",
       "    </tr>\n",
       "    <tr>\n",
       "      <th>3956</th>\n",
       "      <td>-0.319583</td>\n",
       "      <td>2.087564</td>\n",
       "    </tr>\n",
       "    <tr>\n",
       "      <th>266</th>\n",
       "      <td>-0.054245</td>\n",
       "      <td>-0.518459</td>\n",
       "    </tr>\n",
       "    <tr>\n",
       "      <th>3347</th>\n",
       "      <td>1.626231</td>\n",
       "      <td>0.940128</td>\n",
       "    </tr>\n",
       "    <tr>\n",
       "      <th>3736</th>\n",
       "      <td>1.228224</td>\n",
       "      <td>1.036410</td>\n",
       "    </tr>\n",
       "  </tbody>\n",
       "</table>\n",
       "</div>"
      ],
      "text/plain": [
       "           age  avg_glucose_level\n",
       "118  -0.231137          -0.527072\n",
       "3956 -0.319583           2.087564\n",
       "266  -0.054245          -0.518459\n",
       "3347  1.626231           0.940128\n",
       "3736  1.228224           1.036410"
      ]
     },
     "execution_count": 74,
     "metadata": {},
     "output_type": "execute_result"
    }
   ],
   "source": [
    "X_test.head()"
   ]
  },
  {
   "cell_type": "code",
   "execution_count": 75,
   "metadata": {},
   "outputs": [
    {
     "name": "stdout",
     "output_type": "stream",
     "text": [
      "y_train count is 3832\n"
     ]
    },
    {
     "data": {
      "text/plain": [
       "4783    0\n",
       "739     0\n",
       "623     0\n",
       "1165    0\n",
       "1792    0\n",
       "Name: stroke, dtype: int64"
      ]
     },
     "execution_count": 75,
     "metadata": {},
     "output_type": "execute_result"
    }
   ],
   "source": [
    "print(f\"y_train count is {y_train.count()}\")\n",
    "y_train.head()"
   ]
  },
  {
   "cell_type": "code",
   "execution_count": 76,
   "metadata": {},
   "outputs": [
    {
     "name": "stdout",
     "output_type": "stream",
     "text": [
      "y_test count is 1278\n"
     ]
    },
    {
     "data": {
      "text/plain": [
       "118     1\n",
       "3956    0\n",
       "266     0\n",
       "3347    0\n",
       "3736    0\n",
       "Name: stroke, dtype: int64"
      ]
     },
     "execution_count": 76,
     "metadata": {},
     "output_type": "execute_result"
    }
   ],
   "source": [
    "print(f\"y_test count is {y_test.count()}\")\n",
    "y_test.head()"
   ]
  },
  {
   "cell_type": "markdown",
   "metadata": {},
   "source": [
    "<br>\n",
    "\n",
    "#### **Using Logistic Regression**"
   ]
  },
  {
   "cell_type": "code",
   "execution_count": 77,
   "metadata": {},
   "outputs": [
    {
     "name": "stdout",
     "output_type": "stream",
     "text": [
      "\u001b[1m Logistic regression accuracies: \u001b[0m\n",
      "Training accuracy: 0.9501565762004175\n",
      "Testing accuracy: 0.9546165884194053\n",
      "\n",
      "\u001b[1m Confusion matrix for logistic regression: \u001b[0m\n",
      "[[1220    0]\n",
      " [  58    0]]\n",
      "\n",
      "\u001b[1m Logistic regression classification report: \u001b[0m\n",
      "              precision    recall  f1-score   support\n",
      "\n",
      "           0       0.95      1.00      0.98      1220\n",
      "           1       0.00      0.00      0.00        58\n",
      "\n",
      "    accuracy                           0.95      1278\n",
      "   macro avg       0.48      0.50      0.49      1278\n",
      "weighted avg       0.91      0.95      0.93      1278\n",
      "\n"
     ]
    },
    {
     "name": "stderr",
     "output_type": "stream",
     "text": [
      "/opt/conda/lib/python3.8/site-packages/sklearn/metrics/_classification.py:1221: UndefinedMetricWarning: Precision and F-score are ill-defined and being set to 0.0 in labels with no predicted samples. Use `zero_division` parameter to control this behavior.\n",
      "  _warn_prf(average, modifier, msg_start, len(result))\n"
     ]
    }
   ],
   "source": [
    "logistic_model = linear_model.LogisticRegression(solver = \"lbfgs\")\n",
    "logistic_model.fit(X_train, y_train)\n",
    "\n",
    "lr_pred = logistic_model.predict(X_test)\n",
    "\n",
    "# Training and testing accuracy\n",
    "lr_train_acc = logistic_model.score(X_train, y_train)\n",
    "lr_test_acc = logistic_model.score(X_test, y_test)\n",
    "\n",
    "print(\"\\033[1m Logistic regression accuracies: \\033[0m\")\n",
    "print(f\"Training accuracy: {lr_train_acc}\")\n",
    "print(f\"Testing accuracy: {lr_test_acc}\")\n",
    "print(\"\")\n",
    "\n",
    "lm_con_mat = metrics.confusion_matrix(y_test, lr_pred)\n",
    "print(\"\\033[1m Confusion matrix for logistic regression: \\033[0m\")\n",
    "print(lm_con_mat)\n",
    "print(\"\")\n",
    "\n",
    "lr_report = metrics.classification_report(y_test, lr_pred)\n",
    "print(\"\\033[1m Logistic regression classification report: \\033[0m\")\n",
    "print(lr_report)"
   ]
  },
  {
   "cell_type": "markdown",
   "metadata": {},
   "source": [
    "#### **Using Decision Tree**"
   ]
  },
  {
   "cell_type": "code",
   "execution_count": 78,
   "metadata": {},
   "outputs": [
    {
     "name": "stdout",
     "output_type": "stream",
     "text": [
      "\u001b[1m Decision tree accuracies: \u001b[0m\n",
      "Training accuracy: 0.9561586638830898\n",
      "Testing accuracy: 0.9460093896713615\n",
      "\n",
      "\u001b[1m Confusion matrix for decision tree: \u001b[0m\n",
      "[[1208   12]\n",
      " [  57    1]]\n",
      "\n",
      "\u001b[1m Decision tree report: \u001b[0m\n",
      "              precision    recall  f1-score   support\n",
      "\n",
      "           0       0.95      0.99      0.97      1220\n",
      "           1       0.08      0.02      0.03        58\n",
      "\n",
      "    accuracy                           0.95      1278\n",
      "   macro avg       0.52      0.50      0.50      1278\n",
      "weighted avg       0.92      0.95      0.93      1278\n",
      "\n"
     ]
    }
   ],
   "source": [
    "dt_model = DecisionTreeClassifier(max_depth = 25, max_leaf_nodes = 33)\n",
    "dt_model.fit(X_train, y_train)\n",
    "\n",
    "dt_pred = dt_model.predict(X_test)\n",
    "\n",
    "dt_train_acc = dt_model.score(X_train, y_train)\n",
    "dt_test_acc = dt_model.score(X_test, y_test)\n",
    "\n",
    "print(\"\\033[1m Decision tree accuracies: \\033[0m\")\n",
    "print(f\"Training accuracy: {dt_train_acc}\")\n",
    "print(f\"Testing accuracy: {dt_test_acc}\")\n",
    "print(\"\")\n",
    "\n",
    "dt_con_mat = metrics.confusion_matrix(y_test, dt_pred)\n",
    "print(\"\\033[1m Confusion matrix for decision tree: \\033[0m\")\n",
    "print(dt_con_mat)\n",
    "print(\"\")\n",
    "\n",
    "dt_report = metrics.classification_report(y_test, dt_pred)\n",
    "print(\"\\033[1m Decision tree report: \\033[0m\")\n",
    "print(dt_report)"
   ]
  },
  {
   "cell_type": "markdown",
   "metadata": {},
   "source": [
    "**Conclusion for Quantitative Varibales**\n",
    "\n",
    "From our graphs we can see that age and glucose level had a correlation with having a stroke while bmi did not. Using logistics regression and decision tree to find the accuracy of using glucose and age as predictors on having a stroke yielded a 95% accuracy both times. This is fairly accurate but for something as severe as a stroke, you may want to be more accurate. This could be done by adding more factors or by choosing a different algorithm."
   ]
  },
  {
   "cell_type": "markdown",
   "metadata": {},
   "source": [
    "#### **Relationship for Qualitative Variables**"
   ]
  },
  {
   "cell_type": "markdown",
   "metadata": {},
   "source": [
    "We now analyze the qualitative data, hence we get rid of all the quantitative variables as well as id since we already know there is no correlation with that variable."
   ]
  },
  {
   "cell_type": "code",
   "execution_count": 79,
   "metadata": {},
   "outputs": [
    {
     "data": {
      "text/html": [
       "<div>\n",
       "<style scoped>\n",
       "    .dataframe tbody tr th:only-of-type {\n",
       "        vertical-align: middle;\n",
       "    }\n",
       "\n",
       "    .dataframe tbody tr th {\n",
       "        vertical-align: top;\n",
       "    }\n",
       "\n",
       "    .dataframe thead th {\n",
       "        text-align: right;\n",
       "    }\n",
       "</style>\n",
       "<table border=\"1\" class=\"dataframe\">\n",
       "  <thead>\n",
       "    <tr style=\"text-align: right;\">\n",
       "      <th></th>\n",
       "      <th>gender</th>\n",
       "      <th>hypertension</th>\n",
       "      <th>heart_disease</th>\n",
       "      <th>ever_married</th>\n",
       "      <th>work_type</th>\n",
       "      <th>Residence_type</th>\n",
       "      <th>smoking_status</th>\n",
       "      <th>stroke</th>\n",
       "    </tr>\n",
       "  </thead>\n",
       "  <tbody>\n",
       "    <tr>\n",
       "      <th>0</th>\n",
       "      <td>Male</td>\n",
       "      <td>0</td>\n",
       "      <td>1</td>\n",
       "      <td>Yes</td>\n",
       "      <td>Private</td>\n",
       "      <td>Urban</td>\n",
       "      <td>formerly smoked</td>\n",
       "      <td>1</td>\n",
       "    </tr>\n",
       "    <tr>\n",
       "      <th>1</th>\n",
       "      <td>Female</td>\n",
       "      <td>0</td>\n",
       "      <td>0</td>\n",
       "      <td>Yes</td>\n",
       "      <td>Self-employed</td>\n",
       "      <td>Rural</td>\n",
       "      <td>never smoked</td>\n",
       "      <td>1</td>\n",
       "    </tr>\n",
       "    <tr>\n",
       "      <th>2</th>\n",
       "      <td>Male</td>\n",
       "      <td>0</td>\n",
       "      <td>1</td>\n",
       "      <td>Yes</td>\n",
       "      <td>Private</td>\n",
       "      <td>Rural</td>\n",
       "      <td>never smoked</td>\n",
       "      <td>1</td>\n",
       "    </tr>\n",
       "    <tr>\n",
       "      <th>3</th>\n",
       "      <td>Female</td>\n",
       "      <td>0</td>\n",
       "      <td>0</td>\n",
       "      <td>Yes</td>\n",
       "      <td>Private</td>\n",
       "      <td>Urban</td>\n",
       "      <td>smokes</td>\n",
       "      <td>1</td>\n",
       "    </tr>\n",
       "    <tr>\n",
       "      <th>4</th>\n",
       "      <td>Female</td>\n",
       "      <td>1</td>\n",
       "      <td>0</td>\n",
       "      <td>Yes</td>\n",
       "      <td>Self-employed</td>\n",
       "      <td>Rural</td>\n",
       "      <td>never smoked</td>\n",
       "      <td>1</td>\n",
       "    </tr>\n",
       "    <tr>\n",
       "      <th>...</th>\n",
       "      <td>...</td>\n",
       "      <td>...</td>\n",
       "      <td>...</td>\n",
       "      <td>...</td>\n",
       "      <td>...</td>\n",
       "      <td>...</td>\n",
       "      <td>...</td>\n",
       "      <td>...</td>\n",
       "    </tr>\n",
       "    <tr>\n",
       "      <th>5105</th>\n",
       "      <td>Female</td>\n",
       "      <td>1</td>\n",
       "      <td>0</td>\n",
       "      <td>Yes</td>\n",
       "      <td>Private</td>\n",
       "      <td>Urban</td>\n",
       "      <td>never smoked</td>\n",
       "      <td>0</td>\n",
       "    </tr>\n",
       "    <tr>\n",
       "      <th>5106</th>\n",
       "      <td>Female</td>\n",
       "      <td>0</td>\n",
       "      <td>0</td>\n",
       "      <td>Yes</td>\n",
       "      <td>Self-employed</td>\n",
       "      <td>Urban</td>\n",
       "      <td>never smoked</td>\n",
       "      <td>0</td>\n",
       "    </tr>\n",
       "    <tr>\n",
       "      <th>5107</th>\n",
       "      <td>Female</td>\n",
       "      <td>0</td>\n",
       "      <td>0</td>\n",
       "      <td>Yes</td>\n",
       "      <td>Self-employed</td>\n",
       "      <td>Rural</td>\n",
       "      <td>never smoked</td>\n",
       "      <td>0</td>\n",
       "    </tr>\n",
       "    <tr>\n",
       "      <th>5108</th>\n",
       "      <td>Male</td>\n",
       "      <td>0</td>\n",
       "      <td>0</td>\n",
       "      <td>Yes</td>\n",
       "      <td>Private</td>\n",
       "      <td>Rural</td>\n",
       "      <td>formerly smoked</td>\n",
       "      <td>0</td>\n",
       "    </tr>\n",
       "    <tr>\n",
       "      <th>5109</th>\n",
       "      <td>Female</td>\n",
       "      <td>0</td>\n",
       "      <td>0</td>\n",
       "      <td>Yes</td>\n",
       "      <td>Govt_job</td>\n",
       "      <td>Urban</td>\n",
       "      <td>Unknown</td>\n",
       "      <td>0</td>\n",
       "    </tr>\n",
       "  </tbody>\n",
       "</table>\n",
       "<p>5110 rows × 8 columns</p>\n",
       "</div>"
      ],
      "text/plain": [
       "      gender  hypertension  heart_disease ever_married      work_type  \\\n",
       "0       Male             0              1          Yes        Private   \n",
       "1     Female             0              0          Yes  Self-employed   \n",
       "2       Male             0              1          Yes        Private   \n",
       "3     Female             0              0          Yes        Private   \n",
       "4     Female             1              0          Yes  Self-employed   \n",
       "...      ...           ...            ...          ...            ...   \n",
       "5105  Female             1              0          Yes        Private   \n",
       "5106  Female             0              0          Yes  Self-employed   \n",
       "5107  Female             0              0          Yes  Self-employed   \n",
       "5108    Male             0              0          Yes        Private   \n",
       "5109  Female             0              0          Yes       Govt_job   \n",
       "\n",
       "     Residence_type   smoking_status  stroke  \n",
       "0             Urban  formerly smoked       1  \n",
       "1             Rural     never smoked       1  \n",
       "2             Rural     never smoked       1  \n",
       "3             Urban           smokes       1  \n",
       "4             Rural     never smoked       1  \n",
       "...             ...              ...     ...  \n",
       "5105          Urban     never smoked       0  \n",
       "5106          Urban     never smoked       0  \n",
       "5107          Rural     never smoked       0  \n",
       "5108          Rural  formerly smoked       0  \n",
       "5109          Urban          Unknown       0  \n",
       "\n",
       "[5110 rows x 8 columns]"
      ]
     },
     "execution_count": 79,
     "metadata": {},
     "output_type": "execute_result"
    }
   ],
   "source": [
    "stroke_data_2 = stroke_data_all.drop(columns = ['bmi', \n",
    "                                          'age', \n",
    "                                          'avg_glucose_level',\n",
    "                                            'id'], \n",
    "                               axis = 1)\n",
    "stroke_data_2"
   ]
  },
  {
   "cell_type": "markdown",
   "metadata": {},
   "source": [
    "We convert all the variables into numeric values in the following cell. This allows us to use a correlation table."
   ]
  },
  {
   "cell_type": "code",
   "execution_count": 80,
   "metadata": {},
   "outputs": [
    {
     "data": {
      "text/html": [
       "<div>\n",
       "<style scoped>\n",
       "    .dataframe tbody tr th:only-of-type {\n",
       "        vertical-align: middle;\n",
       "    }\n",
       "\n",
       "    .dataframe tbody tr th {\n",
       "        vertical-align: top;\n",
       "    }\n",
       "\n",
       "    .dataframe thead th {\n",
       "        text-align: right;\n",
       "    }\n",
       "</style>\n",
       "<table border=\"1\" class=\"dataframe\">\n",
       "  <thead>\n",
       "    <tr style=\"text-align: right;\">\n",
       "      <th></th>\n",
       "      <th>gender</th>\n",
       "      <th>hypertension</th>\n",
       "      <th>heart_disease</th>\n",
       "      <th>ever_married</th>\n",
       "      <th>work_type</th>\n",
       "      <th>Residence_type</th>\n",
       "      <th>smoking_status</th>\n",
       "      <th>stroke</th>\n",
       "    </tr>\n",
       "  </thead>\n",
       "  <tbody>\n",
       "    <tr>\n",
       "      <th>0</th>\n",
       "      <td>1</td>\n",
       "      <td>0</td>\n",
       "      <td>1</td>\n",
       "      <td>1</td>\n",
       "      <td>1</td>\n",
       "      <td>1</td>\n",
       "      <td>2</td>\n",
       "      <td>1</td>\n",
       "    </tr>\n",
       "    <tr>\n",
       "      <th>1</th>\n",
       "      <td>0</td>\n",
       "      <td>0</td>\n",
       "      <td>0</td>\n",
       "      <td>1</td>\n",
       "      <td>2</td>\n",
       "      <td>2</td>\n",
       "      <td>1</td>\n",
       "      <td>1</td>\n",
       "    </tr>\n",
       "    <tr>\n",
       "      <th>2</th>\n",
       "      <td>1</td>\n",
       "      <td>0</td>\n",
       "      <td>1</td>\n",
       "      <td>1</td>\n",
       "      <td>1</td>\n",
       "      <td>2</td>\n",
       "      <td>1</td>\n",
       "      <td>1</td>\n",
       "    </tr>\n",
       "    <tr>\n",
       "      <th>3</th>\n",
       "      <td>0</td>\n",
       "      <td>0</td>\n",
       "      <td>0</td>\n",
       "      <td>1</td>\n",
       "      <td>1</td>\n",
       "      <td>1</td>\n",
       "      <td>3</td>\n",
       "      <td>1</td>\n",
       "    </tr>\n",
       "    <tr>\n",
       "      <th>4</th>\n",
       "      <td>0</td>\n",
       "      <td>1</td>\n",
       "      <td>0</td>\n",
       "      <td>1</td>\n",
       "      <td>2</td>\n",
       "      <td>2</td>\n",
       "      <td>1</td>\n",
       "      <td>1</td>\n",
       "    </tr>\n",
       "    <tr>\n",
       "      <th>...</th>\n",
       "      <td>...</td>\n",
       "      <td>...</td>\n",
       "      <td>...</td>\n",
       "      <td>...</td>\n",
       "      <td>...</td>\n",
       "      <td>...</td>\n",
       "      <td>...</td>\n",
       "      <td>...</td>\n",
       "    </tr>\n",
       "    <tr>\n",
       "      <th>5105</th>\n",
       "      <td>0</td>\n",
       "      <td>1</td>\n",
       "      <td>0</td>\n",
       "      <td>1</td>\n",
       "      <td>1</td>\n",
       "      <td>1</td>\n",
       "      <td>1</td>\n",
       "      <td>0</td>\n",
       "    </tr>\n",
       "    <tr>\n",
       "      <th>5106</th>\n",
       "      <td>0</td>\n",
       "      <td>0</td>\n",
       "      <td>0</td>\n",
       "      <td>1</td>\n",
       "      <td>2</td>\n",
       "      <td>1</td>\n",
       "      <td>1</td>\n",
       "      <td>0</td>\n",
       "    </tr>\n",
       "    <tr>\n",
       "      <th>5107</th>\n",
       "      <td>0</td>\n",
       "      <td>0</td>\n",
       "      <td>0</td>\n",
       "      <td>1</td>\n",
       "      <td>2</td>\n",
       "      <td>2</td>\n",
       "      <td>1</td>\n",
       "      <td>0</td>\n",
       "    </tr>\n",
       "    <tr>\n",
       "      <th>5108</th>\n",
       "      <td>1</td>\n",
       "      <td>0</td>\n",
       "      <td>0</td>\n",
       "      <td>1</td>\n",
       "      <td>1</td>\n",
       "      <td>2</td>\n",
       "      <td>2</td>\n",
       "      <td>0</td>\n",
       "    </tr>\n",
       "    <tr>\n",
       "      <th>5109</th>\n",
       "      <td>0</td>\n",
       "      <td>0</td>\n",
       "      <td>0</td>\n",
       "      <td>1</td>\n",
       "      <td>3</td>\n",
       "      <td>1</td>\n",
       "      <td>0</td>\n",
       "      <td>0</td>\n",
       "    </tr>\n",
       "  </tbody>\n",
       "</table>\n",
       "<p>5110 rows × 8 columns</p>\n",
       "</div>"
      ],
      "text/plain": [
       "     gender  hypertension  heart_disease  ever_married work_type  \\\n",
       "0         1             0              1             1         1   \n",
       "1         0             0              0             1         2   \n",
       "2         1             0              1             1         1   \n",
       "3         0             0              0             1         1   \n",
       "4         0             1              0             1         2   \n",
       "...     ...           ...            ...           ...       ...   \n",
       "5105      0             1              0             1         1   \n",
       "5106      0             0              0             1         2   \n",
       "5107      0             0              0             1         2   \n",
       "5108      1             0              0             1         1   \n",
       "5109      0             0              0             1         3   \n",
       "\n",
       "      Residence_type  smoking_status  stroke  \n",
       "0                  1               2       1  \n",
       "1                  2               1       1  \n",
       "2                  2               1       1  \n",
       "3                  1               3       1  \n",
       "4                  2               1       1  \n",
       "...              ...             ...     ...  \n",
       "5105               1               1       0  \n",
       "5106               1               1       0  \n",
       "5107               2               1       0  \n",
       "5108               2               2       0  \n",
       "5109               1               0       0  \n",
       "\n",
       "[5110 rows x 8 columns]"
      ]
     },
     "execution_count": 80,
     "metadata": {},
     "output_type": "execute_result"
    }
   ],
   "source": [
    "column_numbers = {\"gender\":     {\"Male\": 1, \"Female\": 0},\n",
    "                \"ever_married\": {\"Yes\": 1, \"No\": 0 },\n",
    "        \"work_type\": {\"Private\": 1, \"Self-employed\": 2, \"Govt_job\": 3, \"children\": 4},\n",
    "        \"Residence_type\": {\"Urban\": 1, \"Rural\": 2},\n",
    "        \"smoking_status\": {\"smokes\": 3, \"formerly smoked\": 2, \"never smoked\": 1, \"Unknown\": 0}}\n",
    "\n",
    "stroke_data_2 = stroke_data_2.replace(column_numbers)\n",
    "stroke_data_2"
   ]
  },
  {
   "cell_type": "markdown",
   "metadata": {},
   "source": [
    "**Creating Correlation Table**"
   ]
  },
  {
   "cell_type": "code",
   "execution_count": 81,
   "metadata": {},
   "outputs": [
    {
     "data": {
      "text/html": [
       "<div>\n",
       "<style scoped>\n",
       "    .dataframe tbody tr th:only-of-type {\n",
       "        vertical-align: middle;\n",
       "    }\n",
       "\n",
       "    .dataframe tbody tr th {\n",
       "        vertical-align: top;\n",
       "    }\n",
       "\n",
       "    .dataframe thead th {\n",
       "        text-align: right;\n",
       "    }\n",
       "</style>\n",
       "<table border=\"1\" class=\"dataframe\">\n",
       "  <thead>\n",
       "    <tr style=\"text-align: right;\">\n",
       "      <th></th>\n",
       "      <th>hypertension</th>\n",
       "      <th>heart_disease</th>\n",
       "      <th>ever_married</th>\n",
       "      <th>Residence_type</th>\n",
       "      <th>smoking_status</th>\n",
       "      <th>stroke</th>\n",
       "    </tr>\n",
       "  </thead>\n",
       "  <tbody>\n",
       "    <tr>\n",
       "      <th>hypertension</th>\n",
       "      <td>1.000000</td>\n",
       "      <td>0.108306</td>\n",
       "      <td>0.164243</td>\n",
       "      <td>0.007913</td>\n",
       "      <td>0.106639</td>\n",
       "      <td>0.127904</td>\n",
       "    </tr>\n",
       "    <tr>\n",
       "      <th>heart_disease</th>\n",
       "      <td>0.108306</td>\n",
       "      <td>1.000000</td>\n",
       "      <td>0.114644</td>\n",
       "      <td>-0.003092</td>\n",
       "      <td>0.085211</td>\n",
       "      <td>0.134914</td>\n",
       "    </tr>\n",
       "    <tr>\n",
       "      <th>ever_married</th>\n",
       "      <td>0.164243</td>\n",
       "      <td>0.114644</td>\n",
       "      <td>1.000000</td>\n",
       "      <td>-0.006261</td>\n",
       "      <td>0.284833</td>\n",
       "      <td>0.108340</td>\n",
       "    </tr>\n",
       "    <tr>\n",
       "      <th>Residence_type</th>\n",
       "      <td>0.007913</td>\n",
       "      <td>-0.003092</td>\n",
       "      <td>-0.006261</td>\n",
       "      <td>1.000000</td>\n",
       "      <td>-0.022853</td>\n",
       "      <td>-0.015458</td>\n",
       "    </tr>\n",
       "    <tr>\n",
       "      <th>smoking_status</th>\n",
       "      <td>0.106639</td>\n",
       "      <td>0.085211</td>\n",
       "      <td>0.284833</td>\n",
       "      <td>-0.022853</td>\n",
       "      <td>1.000000</td>\n",
       "      <td>0.054914</td>\n",
       "    </tr>\n",
       "    <tr>\n",
       "      <th>stroke</th>\n",
       "      <td>0.127904</td>\n",
       "      <td>0.134914</td>\n",
       "      <td>0.108340</td>\n",
       "      <td>-0.015458</td>\n",
       "      <td>0.054914</td>\n",
       "      <td>1.000000</td>\n",
       "    </tr>\n",
       "  </tbody>\n",
       "</table>\n",
       "</div>"
      ],
      "text/plain": [
       "                hypertension  heart_disease  ever_married  Residence_type  \\\n",
       "hypertension        1.000000       0.108306      0.164243        0.007913   \n",
       "heart_disease       0.108306       1.000000      0.114644       -0.003092   \n",
       "ever_married        0.164243       0.114644      1.000000       -0.006261   \n",
       "Residence_type      0.007913      -0.003092     -0.006261        1.000000   \n",
       "smoking_status      0.106639       0.085211      0.284833       -0.022853   \n",
       "stroke              0.127904       0.134914      0.108340       -0.015458   \n",
       "\n",
       "                smoking_status    stroke  \n",
       "hypertension          0.106639  0.127904  \n",
       "heart_disease         0.085211  0.134914  \n",
       "ever_married          0.284833  0.108340  \n",
       "Residence_type       -0.022853 -0.015458  \n",
       "smoking_status        1.000000  0.054914  \n",
       "stroke                0.054914  1.000000  "
      ]
     },
     "execution_count": 81,
     "metadata": {},
     "output_type": "execute_result"
    }
   ],
   "source": [
    "Correlation_Matrix = stroke_data_2.corr()\n",
    "Correlation_Matrix"
   ]
  },
  {
   "cell_type": "markdown",
   "metadata": {},
   "source": [
    "**Plotting Correlation Table**"
   ]
  },
  {
   "cell_type": "code",
   "execution_count": 82,
   "metadata": {},
   "outputs": [
    {
     "data": {
      "image/png": "[encoded data removed]",
      "text/plain": [
       "<Figure size 432x288 with 2 Axes>"
      ]
     },
     "metadata": {
      "needs_background": "light"
     },
     "output_type": "display_data"
    }
   ],
   "source": [
    "corrplot(Correlation_Matrix)"
   ]
  },
  {
   "cell_type": "markdown",
   "metadata": {},
   "source": [
    "**Creating Heatmap**"
   ]
  },
  {
   "cell_type": "code",
   "execution_count": 83,
   "metadata": {},
   "outputs": [
    {
     "data": {
      "image/png": "[encoded data removed]",
      "text/plain": [
       "<Figure size 432x288 with 2 Axes>"
      ]
     },
     "metadata": {
      "needs_background": "light"
     },
     "output_type": "display_data"
    }
   ],
   "source": [
    "sn.heatmap(Correlation_Matrix, annot=True)\n",
    "plt.show()"
   ]
  },
  {
   "cell_type": "markdown",
   "metadata": {},
   "source": [
    "**To compare each variable individually with stroke, we create the following bar chart**"
   ]
  },
  {
   "cell_type": "code",
   "execution_count": 84,
   "metadata": {},
   "outputs": [
    {
     "name": "stdout",
     "output_type": "stream",
     "text": [
      "heart_disease\n",
      "0     4.178734\n",
      "1    17.028986\n",
      "Name: Stroke_proportion, dtype: float64\n"
     ]
    },
    {
     "data": {
      "image/png": "[encoded data removed]",
      "text/plain": [
       "<Figure size 432x288 with 1 Axes>"
      ]
     },
     "metadata": {
      "needs_background": "light"
     },
     "output_type": "display_data"
    }
   ],
   "source": [
    "# This creates a new coolumn in our data set of all 1's to allow us to sum the total amount of people\n",
    "stroke_data_all['count'] = pd.Series([1 for x in range(len(stroke_data_all.index))], index=stroke_data_all.index)\n",
    "\n",
    "# This groups the data into people who had heart disease and those who didn't and sums the amount of people\n",
    "total_people = (\n",
    "    stroke_data_all\n",
    "    .groupby(\"heart_disease\")\n",
    "    .sum(\"count\") \n",
    ")\n",
    "\n",
    "# Create new column for percentage of people with stroke\n",
    "total_people[\"Stroke_proportion\"] = total_people[\"stroke\"] / total_people[\"count\"] * 100\n",
    "\n",
    "# find out the values we get\n",
    "print(total_people[\"Stroke_proportion\"])\n",
    "\n",
    "#From the values we calculated above, create the x and y values\n",
    "x_values = [\"No Heart Disease\", \"Heart Disease\"]\n",
    "y_values = (4.178734, 17.028986)\n",
    "\n",
    "#creating plot:\n",
    "fig = plt.figure()\n",
    "ax = fig.add_axes([0, 0, 1, 1])\n",
    "ax.bar(x_values, y_values, color = ['green', 'red'])\n",
    "ax.set_ylabel('Percentage of People with Stroke')\n",
    "ax.set_title('Percentage of People with Stroke vs Heart Disease')\n",
    "plt.show()"
   ]
  },
  {
   "cell_type": "code",
   "execution_count": 85,
   "metadata": {},
   "outputs": [
    {
     "name": "stdout",
     "output_type": "stream",
     "text": [
      "hypertension\n",
      "0     3.967910\n",
      "1    13.253012\n",
      "Name: Stroke_proportion, dtype: float64\n"
     ]
    },
    {
     "data": {
      "image/png": "[encoded data removed]",
      "text/plain": [
       "<Figure size 432x288 with 1 Axes>"
      ]
     },
     "metadata": {
      "needs_background": "light"
     },
     "output_type": "display_data"
    }
   ],
   "source": [
    "# This groups the data into people who had heart disease and those who didn't and sums the amount of people\n",
    "total_people_hypertension = (\n",
    "    stroke_data_all\n",
    "    .groupby(\"hypertension\")\n",
    "    .sum(\"count\") \n",
    ")\n",
    "\n",
    "# Create new column for percentage of people with stroke\n",
    "total_people_hypertension[\"Stroke_proportion\"] = total_people_hypertension[\"stroke\"] / total_people_hypertension[\"count\"] * 100\n",
    "\n",
    "# find out the values we get\n",
    "print(total_people_hypertension[\"Stroke_proportion\"])\n",
    "\n",
    "#From the values we calculated above, create the x and y values\n",
    "x_values = [\"No Hypertension\", \"Hypertension\"]\n",
    "y_values = (3.967910, 13.253012)\n",
    "\n",
    "#creating plot:\n",
    "fig = plt.figure()\n",
    "ax = fig.add_axes([0, 0, 1, 1])\n",
    "ax.bar(x_values, y_values, color = ['green', 'red'])\n",
    "ax.set_ylabel('Percentage of People with Stroke')\n",
    "ax.set_title('Percentage of People with Stroke vs Hypertension')\n",
    "plt.show()"
   ]
  },
  {
   "cell_type": "code",
   "execution_count": 86,
   "metadata": {},
   "outputs": [
    {
     "name": "stdout",
     "output_type": "stream",
     "text": [
      "ever_married\n",
      "No     1.650541\n",
      "Yes    6.561288\n",
      "Name: Stroke_proportion, dtype: float64\n"
     ]
    },
    {
     "data": {
      "image/png": "[encoded data removed]",
      "text/plain": [
       "<Figure size 432x288 with 1 Axes>"
      ]
     },
     "metadata": {
      "needs_background": "light"
     },
     "output_type": "display_data"
    }
   ],
   "source": [
    "# This groups the data into people who had heart disease and those who didn't and sums the amount of people\n",
    "total_people_ever_married = (\n",
    "    stroke_data_all\n",
    "    .groupby(\"ever_married\")\n",
    "    .sum(\"count\") \n",
    ")\n",
    "\n",
    "# Create new column for percentage of people with stroke\n",
    "total_people_ever_married[\"Stroke_proportion\"] = total_people_ever_married[\"stroke\"] / total_people_ever_married[\"count\"] * 100\n",
    "\n",
    "# find out the values we get\n",
    "print(total_people_ever_married[\"Stroke_proportion\"])\n",
    "\n",
    "#From the values we calculated above, create the x and y values\n",
    "x_values = [\"Never Married\", \"Married\"]\n",
    "y_values = (1.650541, 6.561288)\n",
    "\n",
    "#creating plot:\n",
    "fig = plt.figure()\n",
    "ax = fig.add_axes([0, 0, 1, 1])\n",
    "ax.bar(x_values, y_values, color = ['green', 'red'])\n",
    "ax.set_ylabel('Percentage of People with Stroke')\n",
    "ax.set_title('Percentage of People with Stroke vs Married')\n",
    "plt.show()"
   ]
  },
  {
   "cell_type": "code",
   "execution_count": 87,
   "metadata": {},
   "outputs": [
    {
     "name": "stdout",
     "output_type": "stream",
     "text": [
      "Residence_type\n",
      "Rural    4.534606\n",
      "Urban    5.200308\n",
      "Name: Stroke_proportion, dtype: float64\n"
     ]
    },
    {
     "data": {
      "image/png": "[encoded data removed]",
      "text/plain": [
       "<Figure size 432x288 with 1 Axes>"
      ]
     },
     "metadata": {
      "needs_background": "light"
     },
     "output_type": "display_data"
    }
   ],
   "source": [
    "# This groups the data into people who had heart disease and those who didn't and sums the amount of people\n",
    "total_people_residents = (\n",
    "    stroke_data_all\n",
    "    .groupby(\"Residence_type\")\n",
    "    .sum(\"count\") \n",
    ")\n",
    "\n",
    "# Create new column for percentage of people with stroke\n",
    "total_people_residents[\"Stroke_proportion\"] = total_people_residents[\"stroke\"] / total_people_residents[\"count\"] * 100\n",
    "\n",
    "# find out the values we get\n",
    "print(total_people_residents[\"Stroke_proportion\"])\n",
    "\n",
    "#From the values we calculated above, create the x and y values\n",
    "x_values = [\"Urban\", \"Rural\"]\n",
    "y_values = (5.200308, 4.534606)\n",
    "\n",
    "#creating plot:\n",
    "fig = plt.figure()\n",
    "ax = fig.add_axes([0, 0, 1, 1])\n",
    "ax.bar(x_values, y_values, color = ['red', 'green'])\n",
    "ax.set_ylabel('Percentage of People with Stroke')\n",
    "ax.set_title('Percentage of People with Stroke vs Residents Type')\n",
    "plt.show()"
   ]
  },
  {
   "cell_type": "code",
   "execution_count": 88,
   "metadata": {},
   "outputs": [
    {
     "name": "stdout",
     "output_type": "stream",
     "text": [
      "smoking_status\n",
      "Unknown            3.044041\n",
      "formerly smoked    7.909605\n",
      "never smoked       4.756871\n",
      "smokes             5.323194\n",
      "Name: Stroke_proportion, dtype: float64\n"
     ]
    },
    {
     "data": {
      "image/png": "[encoded data removed]",
      "text/plain": [
       "<Figure size 432x288 with 1 Axes>"
      ]
     },
     "metadata": {
      "needs_background": "light"
     },
     "output_type": "display_data"
    }
   ],
   "source": [
    "# This groups the data into people who had heart disease and those who didn't and sums the amount of people\n",
    "total_people_smoking = (\n",
    "    stroke_data_all\n",
    "    .groupby(\"smoking_status\")\n",
    "    .sum(\"count\") \n",
    ")\n",
    "\n",
    "# Create new column for percentage of people with stroke\n",
    "total_people_smoking[\"Stroke_proportion\"] = total_people_smoking[\"stroke\"] / total_people_smoking[\"count\"] * 100\n",
    "\n",
    "# find out the values we get\n",
    "print(total_people_smoking[\"Stroke_proportion\"])\n",
    "\n",
    "#From the values we calculated above, create the x and y values\n",
    "x_values = [\"Unknown\", \"Never Smoked\", \"Formerly Smoked\", \"Smokes\"]\n",
    "y_values = (3.044041, 4.756871, 7.909605, 5.323194)\n",
    "\n",
    "#creating plot:\n",
    "fig = plt.figure()\n",
    "ax = fig.add_axes([0, 0, 1, 1])\n",
    "ax.bar(x_values, y_values, color = ['green', 'green', 'red', 'red'])\n",
    "ax.set_ylabel('Percentage of People with Stroke')\n",
    "ax.set_title('Percentage of People with Stroke vs Smoking Status')\n",
    "plt.show()"
   ]
  },
  {
   "cell_type": "markdown",
   "metadata": {},
   "source": [
    "**Conclusion for Quantitative Varibales**"
   ]
  },
  {
   "cell_type": "markdown",
   "metadata": {},
   "source": [
    "From looking at the correlation table and heat map, we can tell right away that out of the qualitative variables, heart disease and hypertension has the greatest correlation. Surprisingly, there was also a slight correlation between marriage and stroke. \n",
    "<br>\n",
    "<br>\n",
    "The correlation however was small for all variables and we cannot conclude that heart disease or hypertension are significant factors. "
   ]
  }
 ],
 "metadata": {
  "kernelspec": {
   "display_name": "Python 3",
   "language": "python",
   "name": "python3"
  },
  "language_info": {
   "codemirror_mode": {
    "name": "ipython",
    "version": 3
   },
   "file_extension": ".py",
   "mimetype": "text/x-python",
   "name": "python",
   "nbconvert_exporter": "python",
   "pygments_lexer": "ipython3",
   "version": "3.8.6"
  }
 },
 "nbformat": 4,
 "nbformat_minor": 4
}
